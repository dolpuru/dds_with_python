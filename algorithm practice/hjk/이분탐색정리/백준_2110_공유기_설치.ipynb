{
  "nbformat": 4,
  "nbformat_minor": 0,
  "metadata": {
    "colab": {
      "name": "백준 2110 공유기 설치",
      "provenance": [],
      "collapsed_sections": [],
      "authorship_tag": "ABX9TyOlZzFQI3ya64jdxdDycMsq",
      "include_colab_link": true
    },
    "kernelspec": {
      "name": "python3",
      "display_name": "Python 3"
    },
    "language_info": {
      "name": "python"
    }
  },
  "cells": [
    {
      "cell_type": "markdown",
      "metadata": {
        "id": "view-in-github",
        "colab_type": "text"
      },
      "source": [
        "<a href=\"https://colab.research.google.com/github/doongu/Algo_study_bj_with_python/blob/main/hjk/%EB%B0%B1%EC%A4%80_2110_%EA%B3%B5%EC%9C%A0%EA%B8%B0_%EC%84%A4%EC%B9%98.ipynb\" target=\"_parent\"><img src=\"https://colab.research.google.com/assets/colab-badge.svg\" alt=\"Open In Colab\"/></a>"
      ]
    },
    {
      "cell_type": "code",
      "metadata": {
        "colab": {
          "base_uri": "https://localhost:8080/"
        },
        "id": "cvR0d4pql10d",
        "outputId": "fa3e4527-2fcd-4330-95c1-0d5e2ca73819"
      },
      "source": [
        "n, m = map(int, input().split())\n",
        "list_ = []\n",
        "for i in range(n):\n",
        "    list_.append(int(input()))\n",
        "\n",
        "list_.sort()\n",
        "\n",
        "\n",
        "left = 1\n",
        "\n",
        "right = list_[-1] - list_[0]\n",
        "answer = 0\n",
        "\n",
        "while left <= right:\n",
        "    \n",
        "    max_length = (left + right) // 2\n",
        "    cnt = 1\n",
        "    flag = 0\n",
        "    temp_flag = 0\n",
        "    for i in range(1, len(list_)):\n",
        "        if list_[i] - list_[flag] < max_length:\n",
        "            continue\n",
        "        elif list_[i] - list_[flag] >= max_length:\n",
        "            flag = i\n",
        "            cnt += 1\n",
        "\n",
        "    if cnt >= m:\n",
        "        left = max_length + 1\n",
        "        answer = max_length\n",
        "    elif cnt < m:\n",
        "        right = max_length - 1\n",
        "\n",
        "print(answer)\n"
      ],
      "execution_count": null,
      "outputs": [
        {
          "output_type": "stream",
          "text": [
            "5 3\n",
            "1\n",
            "2\n",
            "8\n",
            "4\n",
            "9\n",
            "3\n"
          ],
          "name": "stdout"
        }
      ]
    }
  ]
}
