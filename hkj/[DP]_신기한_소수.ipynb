{
  "nbformat": 4,
  "nbformat_minor": 0,
  "metadata": {
    "colab": {
      "name": "[DP] 신기한 소수",
      "provenance": [],
      "authorship_tag": "ABX9TyOy89IwsqTWF9tT5DRkQ29u",
      "include_colab_link": true
    },
    "kernelspec": {
      "name": "python3",
      "display_name": "Python 3"
    },
    "language_info": {
      "name": "python"
    }
  },
  "cells": [
    {
      "cell_type": "markdown",
      "metadata": {
        "id": "view-in-github",
        "colab_type": "text"
      },
      "source": [
        "<a href=\"https://colab.research.google.com/github/doongu/Algo_study_bj_with_python/blob/main/hkj/%5BDP%5D_%EC%8B%A0%EA%B8%B0%ED%95%9C_%EC%86%8C%EC%88%98.ipynb\" target=\"_parent\"><img src=\"https://colab.research.google.com/assets/colab-badge.svg\" alt=\"Open In Colab\"/></a>"
      ]
    },
    {
      "cell_type": "code",
      "metadata": {
        "colab": {
          "base_uri": "https://localhost:8080/"
        },
        "id": "O0lRmxbR871Z",
        "outputId": "2a265171-8d88-4137-b367-39eb7a4da383"
      },
      "source": [
        "n = int(input())\n",
        "# list_ = [0 for _ in range(10 ** n + 1)]\n",
        "# for i in range(2, 10**n):\n",
        "#     if list_[i] == 1:\n",
        "#         continue\n",
        "#     for j in range(i*i, 10**n, i):\n",
        "#         list_[j] = 1\n",
        "def check_prime_num(num):\n",
        "\n",
        "    for i in range(2,int(num**0.5)+1):\n",
        "        if num % i == 0:\n",
        "            return False\n",
        "    else:\n",
        "        return True\n",
        "        \n",
        "answer = []\n",
        "def dfs(number):\n",
        "    if check_prime_num(int(number)) == False:\n",
        "        return\n",
        "    elif len(number) == n:\n",
        "        answer.append(number)\n",
        "        return\n",
        "    elif len(number) == n-1:\n",
        "        dfs(number + \"1\")\n",
        "        dfs(number + \"3\")\n",
        "        dfs(number + \"5\")\n",
        "        dfs(number + \"7\")\n",
        "        dfs(number + \"9\")\n",
        "    else:\n",
        "        for i in range(1,10):\n",
        "            dfs(number+str(i))\n",
        "\n",
        "\n",
        "dfs(\"2\")\n",
        "dfs(\"3\")\n",
        "dfs(\"5\")\n",
        "dfs(\"7\")\n",
        "\n",
        "answer.sort()\n",
        "for i in range(len(answer)):\n",
        "    print(int(answer[i]))"
      ],
      "execution_count": null,
      "outputs": [
        {
          "output_type": "stream",
          "text": [
            "4\n",
            "2333\n",
            "2339\n",
            "2393\n",
            "2399\n",
            "2939\n",
            "3119\n",
            "3137\n",
            "3733\n",
            "3739\n",
            "3793\n",
            "3797\n",
            "5939\n",
            "7193\n",
            "7331\n",
            "7333\n",
            "7393\n"
          ],
          "name": "stdout"
        }
      ]
    }
  ]
}