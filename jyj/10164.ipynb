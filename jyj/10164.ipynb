{
  "nbformat": 4,
  "nbformat_minor": 0,
  "metadata": {
    "colab": {
      "name": "Untitled2.ipynb",
      "provenance": [],
      "collapsed_sections": [],
      "authorship_tag": "ABX9TyP33zy2ANSJziiUC0ei+I3y",
      "include_colab_link": true
    },
    "kernelspec": {
      "name": "python3",
      "display_name": "Python 3"
    },
    "language_info": {
      "name": "python"
    }
  },
  "cells": [
    {
      "cell_type": "markdown",
      "metadata": {
        "id": "view-in-github",
        "colab_type": "text"
      },
      "source": [
        "<a href=\"https://colab.research.google.com/github/doongu/Algo_study_bj_with_python/blob/main/jyj/10164.ipynb\" target=\"_parent\"><img src=\"https://colab.research.google.com/assets/colab-badge.svg\" alt=\"Open In Colab\"/></a>"
      ]
    },
    {
      "cell_type": "code",
      "metadata": {
        "colab": {
          "base_uri": "https://localhost:8080/"
        },
        "id": "TChbsqAYeU8p",
        "outputId": "ce4954cf-45ee-47a8-d3e1-b831bc164fc0"
      },
      "source": [
        "input2=input().split(' ')\n",
        "n = int(input2[0])\n",
        "m=int(input2[1])\n",
        "o=int(input2[2])\n",
        "\n",
        "array = [[1 for i in range(15)] for j in range(15)]\n",
        "\n",
        "for i in range(1, 15):\n",
        "  for j in range(1, 15):\n",
        "    array[i][j] = array[i-1][j] + array[i][j-1]\n",
        "if o != 0:\n",
        "  o_m = m-1 if o % m == 0 else o % m -1\n",
        "  o_n = int((o-1) / m)\n",
        "else:\n",
        "  o_m = 0\n",
        "  o_n = 0\n",
        "\n",
        "f_n = n - o_n -1\n",
        "f_m = m - o_m - 1\n",
        "\n",
        "result = array[o_n][o_m] * array[f_n][f_m]\n",
        "print(result)\n"
      ],
      "execution_count": 18,
      "outputs": [
        {
          "output_type": "stream",
          "text": [
            "3 3 9\n",
            "2 2 0 0\n",
            "6\n"
          ],
          "name": "stdout"
        }
      ]
    },
    {
      "cell_type": "code",
      "metadata": {
        "id": "NzcWtxHufj4d"
      },
      "source": [
        ""
      ],
      "execution_count": 14,
      "outputs": []
    }
  ]
}