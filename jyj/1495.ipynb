{
  "nbformat": 4,
  "nbformat_minor": 0,
  "metadata": {
    "colab": {
      "name": "Untitled2.ipynb",
      "provenance": [],
      "collapsed_sections": [],
      "authorship_tag": "ABX9TyMHtstBsIvfrl3Qq4ZlXO/T",
      "include_colab_link": true
    },
    "kernelspec": {
      "name": "python3",
      "display_name": "Python 3"
    },
    "language_info": {
      "name": "python"
    }
  },
  "cells": [
    {
      "cell_type": "markdown",
      "metadata": {
        "id": "view-in-github",
        "colab_type": "text"
      },
      "source": [
        "<a href=\"https://colab.research.google.com/github/doongu/Algo_study_bj_with_python/blob/main/jyj/1495.ipynb\" target=\"_parent\"><img src=\"https://colab.research.google.com/assets/colab-badge.svg\" alt=\"Open In Colab\"/></a>"
      ]
    },
    {
      "cell_type": "code",
      "metadata": {
        "colab": {
          "base_uri": "https://localhost:8080/"
        },
        "id": "TChbsqAYeU8p",
        "outputId": "ce4954cf-45ee-47a8-d3e1-b831bc164fc0"
      },
      "source": [
        "n, s, m = map(int, input().split(' '))\n",
        "array = list(map(int, input().split(' ')))\n",
        "\n",
        "dp = [[0 for i in range(m+1)] for j in range(n+1)]\n",
        "dp[0][s] = 1\n",
        "\n",
        "for i in range(1, n+1):\n",
        "\n",
        "    for j in range(m+1):\n",
        "\n",
        "        if dp[i-1][j]:\n",
        "            if j+array[i-1] <= m:\n",
        "                dp[i][j+array[i-1]] = 1\n",
        "            if j-array[i-1] >= 0:\n",
        "                dp[i][j-array[i-1]] = 1\n",
        "\n",
        "for idx, i in enumerate(reversed(dp[n])):\n",
        "    if i==1:\n",
        "        print(m-idx)\n",
        "        break\n",
        "    if idx == len(dp[n])-1:\n",
        "        print(-1)\n",
        "        break"
      ],
      "execution_count": null,
      "outputs": [
        {
          "output_type": "stream",
          "text": [
            "3 3 9\n",
            "2 2 0 0\n",
            "6\n"
          ],
          "name": "stdout"
        }
      ]
    },
    {
      "cell_type": "code",
      "metadata": {
        "id": "NzcWtxHufj4d"
      },
      "source": [
        ""
      ],
      "execution_count": null,
      "outputs": []
    }
  ]
}