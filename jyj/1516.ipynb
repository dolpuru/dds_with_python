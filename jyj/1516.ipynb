{
  "nbformat": 4,
  "nbformat_minor": 0,
  "metadata": {
    "colab": {
      "name": "Untitled2.ipynb",
      "provenance": [],
      "collapsed_sections": [],
      "authorship_tag": "ABX9TyMiy0C31/o6ISH3XDxBXAJJ",
      "include_colab_link": true
    },
    "kernelspec": {
      "name": "python3",
      "display_name": "Python 3"
    },
    "language_info": {
      "name": "python"
    }
  },
  "cells": [
    {
      "cell_type": "markdown",
      "metadata": {
        "id": "view-in-github",
        "colab_type": "text"
      },
      "source": [
        "<a href=\"https://colab.research.google.com/github/doongu/Algo_study_bj_with_python/blob/main/jyj/1516.ipynb\" target=\"_parent\"><img src=\"https://colab.research.google.com/assets/colab-badge.svg\" alt=\"Open In Colab\"/></a>"
      ]
    },
    {
      "cell_type": "code",
      "metadata": {
        "colab": {
          "base_uri": "https://localhost:8080/"
        },
        "id": "TChbsqAYeU8p",
        "outputId": "ce4954cf-45ee-47a8-d3e1-b831bc164fc0"
      },
      "source": [
        "import collections\n",
        "\n",
        "n = int(input())\n",
        "\n",
        "dp = [0 for i in range(n+1)]\n",
        "complate = [0, ]\n",
        "origin_complate = [0, ]\n",
        "condition = [0, ]\n",
        "\n",
        "for i in range(1, n+1):\n",
        "    input_ = list(map(int, input().split(' ')))[:-1]\n",
        "    complate.append(input_[0])\n",
        "    origin_complate.append(input_[0])\n",
        "    condition.append(collections.deque(input_[1:]))\n",
        "\n",
        "while 1:\n",
        "    swi=0\n",
        "    for i in range(1, n+1):\n",
        "        if len(condition[i]) == 0:\n",
        "            dp[i] = complate[i]\n",
        "        else:\n",
        "            swi = 1\n",
        "            c = condition[i].popleft()\n",
        "            if dp[c] == 0:\n",
        "                condition[i].appendleft(c)\n",
        "            else:\n",
        "                complate[i] = max(origin_complate[i]+dp[c],complate[i]) \n",
        "        \n",
        "    if(swi==0):\n",
        "        break\n",
        "\n",
        "for i in range(1, n+1):\n",
        "    print(dp[i])"
      ],
      "execution_count": null,
      "outputs": [
        {
          "output_type": "stream",
          "text": [
            "3 3 9\n",
            "2 2 0 0\n",
            "6\n"
          ],
          "name": "stdout"
        }
      ]
    },
    {
      "cell_type": "code",
      "metadata": {
        "id": "NzcWtxHufj4d"
      },
      "source": [
        ""
      ],
      "execution_count": null,
      "outputs": []
    }
  ]
}