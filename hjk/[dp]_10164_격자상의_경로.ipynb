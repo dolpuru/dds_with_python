{
  "nbformat": 4,
  "nbformat_minor": 0,
  "metadata": {
    "colab": {
      "name": "[dp] 10164 격자상의 경로",
      "provenance": [],
      "authorship_tag": "ABX9TyNf0+eOOzzj6GJu+0ws9iD7",
      "include_colab_link": true
    },
    "kernelspec": {
      "name": "python3",
      "display_name": "Python 3"
    },
    "language_info": {
      "name": "python"
    }
  },
  "cells": [
    {
      "cell_type": "markdown",
      "metadata": {
        "id": "view-in-github",
        "colab_type": "text"
      },
      "source": [
        "<a href=\"https://colab.research.google.com/github/doongu/Algo_study_bj_with_python/blob/main/hjk/%5Bdp%5D_10164_%EA%B2%A9%EC%9E%90%EC%83%81%EC%9D%98_%EA%B2%BD%EB%A1%9C.ipynb\" target=\"_parent\"><img src=\"https://colab.research.google.com/assets/colab-badge.svg\" alt=\"Open In Colab\"/></a>"
      ]
    },
    {
      "cell_type": "code",
      "metadata": {
        "colab": {
          "base_uri": "https://localhost:8080/"
        },
        "id": "6Fs8NPY-p1-h",
        "outputId": "4faa3cc6-b1df-476d-b778-792d537bc960"
      },
      "source": [
        "#input\n",
        "a,b,c = map(int, input().split())\n",
        "list_ = [[0 for _ in range(16)] for _ in range(16)] \n",
        "\n",
        "#find x,y\n",
        "x = (c-1)//b + 1\n",
        "y = (c-1)%b + 1\n",
        "\n",
        "#find x2,y2\n",
        "x2 = a-x + 1\n",
        "y2 = b-y + 1\n",
        "\n",
        "#미리 값 넣어놓기\n",
        "for i in range(1, len(list_)):\n",
        "  for j in range(1, len(list_)):\n",
        "    if i == 1:\n",
        "      list_[i][j] = 1\n",
        "      list_[j][i] = 1\n",
        "    else:\n",
        "      list_[i][j] = list_[i-1][j] + list_[i][j-1]\n",
        "\n",
        "# c= 0 일 때 처리\n",
        "if c == 0:\n",
        "  print(list_[a][b])\n",
        "else:\n",
        "  print(list_[x][y] * list_[x2][y2])"
      ],
      "execution_count": 16,
      "outputs": [
        {
          "output_type": "stream",
          "text": [
            "3 5 11\n",
            "1\n"
          ],
          "name": "stdout"
        }
      ]
    },
    {
      "cell_type": "markdown",
      "metadata": {
        "id": "a0QGFmhMr-9z"
      },
      "source": [
        ""
      ]
    }
  ]
}