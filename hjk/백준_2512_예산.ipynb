{
  "nbformat": 4,
  "nbformat_minor": 0,
  "metadata": {
    "colab": {
      "name": "백준 2512 예산",
      "provenance": [],
      "authorship_tag": "ABX9TyNnfnuj7A4R+rRVNqf3Bn6z",
      "include_colab_link": true
    },
    "kernelspec": {
      "name": "python3",
      "display_name": "Python 3"
    },
    "language_info": {
      "name": "python"
    }
  },
  "cells": [
    {
      "cell_type": "markdown",
      "metadata": {
        "id": "view-in-github",
        "colab_type": "text"
      },
      "source": [
        "<a href=\"https://colab.research.google.com/github/doongu/Algo_study_bj_with_python/blob/main/hjk/%EB%B0%B1%EC%A4%80_2512_%EC%98%88%EC%82%B0.ipynb\" target=\"_parent\"><img src=\"https://colab.research.google.com/assets/colab-badge.svg\" alt=\"Open In Colab\"/></a>"
      ]
    },
    {
      "cell_type": "code",
      "metadata": {
        "colab": {
          "base_uri": "https://localhost:8080/"
        },
        "id": "NltCAZzCYHwg",
        "outputId": "bf4b00f2-e8e8-44d5-8068-2f22b5411ad9"
      },
      "source": [
        "n = int(input())\n",
        "list_ = list(map(int, input().split()))\n",
        "k = int(input())\n",
        "\n",
        "def bns_return(x):\n",
        "    re = 0\n",
        "    for i in list_:\n",
        "        if x > i:\n",
        "            re += i\n",
        "        else:\n",
        "            re += x\n",
        "    return re\n",
        "\n",
        "left = 1\n",
        "right = max(list_)\n",
        "result = 0\n",
        "while  left <= right:\n",
        "    mid = (left + right) // 2\n",
        "\n",
        "    if bns_return(mid) <= k:\n",
        "        left = mid + 1\n",
        "    elif bns_return(mid) > k:\n",
        "        right = mid - 1\n",
        "\n",
        "print(left-1)"
      ],
      "execution_count": 10,
      "outputs": [
        {
          "output_type": "stream",
          "text": [
            "4\n",
            "120 110 140 150\n",
            "485\n",
            "128\n"
          ],
          "name": "stdout"
        }
      ]
    }
  ]
}