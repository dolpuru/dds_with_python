{
  "nbformat": 4,
  "nbformat_minor": 0,
  "metadata": {
    "colab": {
      "name": "백준 2343 기타 레슨",
      "provenance": [],
      "collapsed_sections": [],
      "authorship_tag": "ABX9TyN/5RqCF3r3okyEeyqTYmml",
      "include_colab_link": true
    },
    "kernelspec": {
      "name": "python3",
      "display_name": "Python 3"
    },
    "language_info": {
      "name": "python"
    }
  },
  "cells": [
    {
      "cell_type": "markdown",
      "metadata": {
        "id": "view-in-github",
        "colab_type": "text"
      },
      "source": [
        "<a href=\"https://colab.research.google.com/github/doongu/Algo_study_bj_with_python/blob/main/hjk/%EB%B0%B1%EC%A4%80_2343_%EA%B8%B0%ED%83%80_%EB%A0%88%EC%8A%A8.ipynb\" target=\"_parent\"><img src=\"https://colab.research.google.com/assets/colab-badge.svg\" alt=\"Open In Colab\"/></a>"
      ]
    },
    {
      "cell_type": "code",
      "metadata": {
        "colab": {
          "base_uri": "https://localhost:8080/"
        },
        "id": "AB4QkUb_oOAo",
        "outputId": "175c135e-4b92-45f8-eb2b-bc9f65b75fc2"
      },
      "source": [
        "if __name__ == '__main__':\n",
        "    n, m = map(int, input().split())\n",
        "    lesson = list(map(int, input().split()))\n",
        "    start, end = max(lesson), sum(lesson)\n",
        "\n",
        "    while start <= end:\n",
        "        mid = (start + end) // 2\n",
        "\n",
        "        cnt = 0\n",
        "        play_time = 0\n",
        "        for l in lesson:\n",
        "            # play_time이 m보다 커지면 새로운 dvd 필요\n",
        "            if play_time + l > mid:\n",
        "                cnt += 1\n",
        "                play_time = 0\n",
        "\n",
        "            play_time += l\n",
        "\n",
        "        cnt += 1 if play_time else 0\n",
        "\n",
        "        if cnt <= m:\n",
        "            end = mid - 1\n",
        "        else:\n",
        "            start = mid + 1\n",
        "    print(start)"
      ],
      "execution_count": null,
      "outputs": [
        {
          "output_type": "stream",
          "text": [
            "9 3\n",
            "1 2 3 4 5 6 7 8 9\n",
            "17\n"
          ],
          "name": "stdout"
        }
      ]
    }
  ]
}