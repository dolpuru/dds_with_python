{
  "nbformat": 4,
  "nbformat_minor": 0,
  "metadata": {
    "colab": {
      "name": "2805 나무자르기",
      "provenance": [],
      "collapsed_sections": [],
      "authorship_tag": "ABX9TyP9BZToIjuQxsWq+NFI3aj/",
      "include_colab_link": true
    },
    "kernelspec": {
      "name": "python3",
      "display_name": "Python 3"
    },
    "language_info": {
      "name": "python"
    }
  },
  "cells": [
    {
      "cell_type": "markdown",
      "metadata": {
        "id": "view-in-github",
        "colab_type": "text"
      },
      "source": [
        "<a href=\"https://colab.research.google.com/github/doongu/Algo_study_bj_with_python/blob/main/hjk/2805_%EB%82%98%EB%AC%B4%EC%9E%90%EB%A5%B4%EA%B8%B0.ipynb\" target=\"_parent\"><img src=\"https://colab.research.google.com/assets/colab-badge.svg\" alt=\"Open In Colab\"/></a>"
      ]
    },
    {
      "cell_type": "code",
      "metadata": {
        "colab": {
          "base_uri": "https://localhost:8080/"
        },
        "id": "vRhkTYKoy9hb",
        "outputId": "26917e9b-5966-4a03-9ddc-777d9dec3d01"
      },
      "source": [
        "#이분탐색 응용문제\n",
        "import sys\n",
        "input = sys.stdin.readline\n",
        "n,m = map(int, input().split())\n",
        "list_ = list(map(int,input().split()))\n",
        "\n",
        "def sum_tree(center):\n",
        "    temp_return = 0\n",
        "    for i in list_:\n",
        "        if i >= center:\n",
        "            temp_return += i-center\n",
        "    else:\n",
        "        return temp_return\n",
        "\n",
        "left = 0\n",
        "right = max(list_)\n",
        "result = 0\n",
        "while left <= right:\n",
        "    mid = (left + right) // 2\n",
        "\n",
        "    temp = sum_tree(mid) #함수를 여러번 호출해서 에러가 떠, 이렇게 따로 변수에 담아뒀다  \n",
        "\n",
        "    '''합격'''\n",
        "    if temp >= m:\n",
        "        if result < mid:\n",
        "            result = mid\n",
        "        left = mid+1\n",
        "    else:\n",
        "        right = mid-1 \n",
        "\n",
        "\n",
        "   '''시간초과, 함수 호출을 여러번 했기 때문.''' \n",
        "    # if  sum_tree(mid) == m:\n",
        "    #     if result < mid:\n",
        "    #         result = mid\n",
        "    #     left = mid+1\n",
        "    # elif sum_tree(mid) > m:\n",
        "    #     if result < mid:\n",
        "    #         result = mid\n",
        "    #     left = mid+1\n",
        "    # else:\n",
        "    #     right = mid-1         \n",
        "                         \n",
        "print(result)"
      ],
      "execution_count": 7,
      "outputs": [
        {
          "output_type": "stream",
          "text": [
            "6 1\n",
            "0 2 0 0 0 2\n",
            "left 0\n",
            "right 2\n",
            "mid 1\n",
            "left 2\n",
            "right 2\n",
            "mid 2\n",
            "1\n"
          ],
          "name": "stdout"
        }
      ]
    }
  ]
}
