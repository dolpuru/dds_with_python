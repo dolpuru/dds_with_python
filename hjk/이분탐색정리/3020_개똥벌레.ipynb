{
  "nbformat": 4,
  "nbformat_minor": 0,
  "metadata": {
    "colab": {
      "name": "3020 개똥벌레",
      "provenance": [],
      "collapsed_sections": [],
      "authorship_tag": "ABX9TyNyqOAjiBeg/51dFmjkRqP/",
      "include_colab_link": true
    },
    "kernelspec": {
      "name": "python3",
      "display_name": "Python 3"
    },
    "language_info": {
      "name": "python"
    }
  },
  "cells": [
    {
      "cell_type": "markdown",
      "metadata": {
        "id": "view-in-github",
        "colab_type": "text"
      },
      "source": [
        "<a href=\"https://colab.research.google.com/github/doongu/Algo_study_bj_with_python/blob/main/hjk/3020_%EA%B0%9C%EB%98%A5%EB%B2%8C%EB%A0%88.ipynb\" target=\"_parent\"><img src=\"https://colab.research.google.com/assets/colab-badge.svg\" alt=\"Open In Colab\"/></a>"
      ]
    },
    {
      "cell_type": "code",
      "metadata": {
        "colab": {
          "base_uri": "https://localhost:8080/"
        },
        "id": "qRjPV1gZEfos",
        "outputId": "661c610f-8002-484b-ea11-b50460b2547b"
      },
      "source": [
        "n, m = map(int, input().split())\n",
        "list_ = []\n",
        "for i in range(n):\n",
        "    list_.append(int(input()))\n",
        "\n",
        "\n",
        "list_top = []\n",
        "list_down = []\n",
        "for i in range(n):\n",
        "    if i % 2 == 1:\n",
        "        list_top.append(list_[i])\n",
        "    else:\n",
        "        list_down.append(list_[i])\n",
        "list_top.sort()\n",
        "list_down.sort()\n",
        "\n",
        "mix = 99999999999\n",
        "mix2 = 999999999999\n",
        "\n",
        "answer_list = []\n",
        "\n",
        "\n",
        "def bns(list_bns, target, start, end):\n",
        "    while start <= end:\n",
        "        mid = (start + end) // 2\n",
        "\n",
        "        if list_bns[mid] < target:\n",
        "            start = mid + 1\n",
        "        else:\n",
        "            end = mid - 1\n",
        "    return start\n",
        "\n",
        "\n",
        "for i in range(1, m+1):\n",
        "    mid_height = i\n",
        "\n",
        "    down_cnt = len(list_down) - bns(list_down, i - 0.5, 0, len(list_down) - 1)\n",
        "    top_cnt = len(list_top) - bns(list_top, m - i + 0.5, 0, len(list_top) - 1)\n",
        "\n",
        "\n",
        "    answer = down_cnt + top_cnt\n",
        "    \n",
        "    if answer <= mix:\n",
        "        answer_list.append(answer)\n",
        "        mix = answer\n",
        "\n",
        "temp = min(answer_list)\n",
        "cnt = 0\n",
        "for i in answer_list:\n",
        "    if temp == i:\n",
        "        cnt += 1\n",
        "\n",
        "print(mix, cnt)\n",
        "# print(mix2)"
      ],
      "execution_count": 44,
      "outputs": [
        {
          "output_type": "stream",
          "text": [
            "6 7\n",
            "1\n",
            "5\n",
            "3\n",
            "3\n",
            "5\n",
            "1\n",
            "2 3\n"
          ],
          "name": "stdout"
        }
      ]
    }
  ]
}