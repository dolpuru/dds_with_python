{
  "nbformat": 4,
  "nbformat_minor": 0,
  "metadata": {
    "colab": {
      "name": "백준 1072 게임",
      "provenance": [],
      "collapsed_sections": [],
      "authorship_tag": "ABX9TyNDB96j2FaqoNOV2Fwr7ciL",
      "include_colab_link": true
    },
    "kernelspec": {
      "name": "python3",
      "display_name": "Python 3"
    },
    "language_info": {
      "name": "python"
    }
  },
  "cells": [
    {
      "cell_type": "markdown",
      "metadata": {
        "id": "view-in-github",
        "colab_type": "text"
      },
      "source": [
        "<a href=\"https://colab.research.google.com/github/doongu/Algo_study_bj_with_python/blob/main/hjk/%EB%B0%B1%EC%A4%80_1072_%EA%B2%8C%EC%9E%84.ipynb\" target=\"_parent\"><img src=\"https://colab.research.google.com/assets/colab-badge.svg\" alt=\"Open In Colab\"/></a>"
      ]
    },
    {
      "cell_type": "code",
      "metadata": {
        "id": "-dRc6CJ9dMj-",
        "colab": {
          "base_uri": "https://localhost:8080/",
          "height": 275
        },
        "outputId": "5730de63-c983-446b-b582-32b8e13288f8"
      },
      "source": [
        "# n, m = map(int,input().split())\n",
        "# cp = int(m * 100/ n)\n",
        "\n",
        "# def f(mid):\n",
        "#     global n,m, cp\n",
        "#     temp_n = n + mid\n",
        "#     temp_m = m + mid\n",
        "#     temp_cp = int(temp_m *100 / temp_n )\n",
        "#     if temp_cp > cp:\n",
        "#         return True\n",
        "#     else:\n",
        "#         return False\n",
        "\n",
        "\n",
        "# if cp >=99:\n",
        "#     print(-1)\n",
        "\n",
        "# else:\n",
        "#     left = 1\n",
        "#     right = 1000000000\n",
        "\n",
        "#     while left <= right:\n",
        "#         mid = int((left + right) / 2)\n",
        "\n",
        "#         if f(mid):\n",
        "#             right = mid - 1\n",
        "#         else:\n",
        "#             left = mid + 1\n",
        "\n",
        "#     print(right + 1)\n",
        "\n",
        "n, m = map(int,input().split())\n",
        "cp = int((m * 100/ n))\n",
        "left = 1\n",
        "right = n\n",
        "result = 9999999999\n",
        "while left <= right:\n",
        "    mid = (left + right) // 2\n",
        "    temp_n = n + mid\n",
        "    temp_m = m + mid\n",
        "\n",
        "    temp = int((temp_m * 100/ temp_n))\n",
        "\n",
        "    if cp >= temp:\n",
        "        left = mid + 1\n",
        "    elif cp < temp:\n",
        "        if mid < result:\n",
        "            result = mid \n",
        "        right = mid - 1\n",
        "if result == 9999999999:\n",
        "    print(-1)\n",
        "else:    \n",
        "    print(result)\n",
        "\n",
        "#원래 작성한 코드도 x * 100 / y 로 하니까 통과 !\n",
        "# 실수를 정확하게 표현못하기에 100을 곱하고 나눠준다 !"
      ],
      "execution_count": 53,
      "outputs": [
        {
          "output_type": "stream",
          "text": [
            "from math import floor n, m = map(int,input().split()) cp = floor(m * 100/ n)  def f(mid):     global n,m, cp     temp_n = n + mid     temp_m = m + mid     temp_cp = floor(temp_m *100 / temp_n )     if temp_cp > cp:         return True     else:         return False   if cp >=99:     print(-1)  else:     left = 1     right = 1000000000      while left <= right:         mid = int((left + right) / 2)          if f(mid):             right = mid - 1         else:             left = mid + 1      if f(left):         print(left)     else:         print(right)\n"
          ],
          "name": "stdout"
        },
        {
          "output_type": "error",
          "ename": "ValueError",
          "evalue": "ignored",
          "traceback": [
            "\u001b[0;31m---------------------------------------------------------------------------\u001b[0m",
            "\u001b[0;31mValueError\u001b[0m                                Traceback (most recent call last)",
            "\u001b[0;32m<ipython-input-53-720312362589>\u001b[0m in \u001b[0;36m<module>\u001b[0;34m()\u001b[0m\n\u001b[1;32m      1\u001b[0m \u001b[0;32mfrom\u001b[0m \u001b[0mmath\u001b[0m \u001b[0;32mimport\u001b[0m \u001b[0mfloor\u001b[0m\u001b[0;34m\u001b[0m\u001b[0;34m\u001b[0m\u001b[0m\n\u001b[0;32m----> 2\u001b[0;31m \u001b[0mn\u001b[0m\u001b[0;34m,\u001b[0m \u001b[0mm\u001b[0m \u001b[0;34m=\u001b[0m \u001b[0mmap\u001b[0m\u001b[0;34m(\u001b[0m\u001b[0mint\u001b[0m\u001b[0;34m,\u001b[0m\u001b[0minput\u001b[0m\u001b[0;34m(\u001b[0m\u001b[0;34m)\u001b[0m\u001b[0;34m.\u001b[0m\u001b[0msplit\u001b[0m\u001b[0;34m(\u001b[0m\u001b[0;34m)\u001b[0m\u001b[0;34m)\u001b[0m\u001b[0;34m\u001b[0m\u001b[0;34m\u001b[0m\u001b[0m\n\u001b[0m\u001b[1;32m      3\u001b[0m \u001b[0mcp\u001b[0m \u001b[0;34m=\u001b[0m \u001b[0mfloor\u001b[0m\u001b[0;34m(\u001b[0m\u001b[0mm\u001b[0m \u001b[0;34m*\u001b[0m \u001b[0;36m100\u001b[0m\u001b[0;34m/\u001b[0m \u001b[0mn\u001b[0m\u001b[0;34m)\u001b[0m\u001b[0;34m\u001b[0m\u001b[0;34m\u001b[0m\u001b[0m\n\u001b[1;32m      4\u001b[0m \u001b[0;34m\u001b[0m\u001b[0m\n\u001b[1;32m      5\u001b[0m \u001b[0;32mdef\u001b[0m \u001b[0mf\u001b[0m\u001b[0;34m(\u001b[0m\u001b[0mmid\u001b[0m\u001b[0;34m)\u001b[0m\u001b[0;34m:\u001b[0m\u001b[0;34m\u001b[0m\u001b[0;34m\u001b[0m\u001b[0m\n",
            "\u001b[0;31mValueError\u001b[0m: invalid literal for int() with base 10: 'from'"
          ]
        }
      ]
    }
  ]
}