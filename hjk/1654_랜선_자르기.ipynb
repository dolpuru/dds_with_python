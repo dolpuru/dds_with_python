{
  "nbformat": 4,
  "nbformat_minor": 0,
  "metadata": {
    "colab": {
      "name": "1654 랜선 자르기",
      "provenance": [],
      "collapsed_sections": [],
      "authorship_tag": "ABX9TyMqtKFMA190Yu6xE7BB3zem",
      "include_colab_link": true
    },
    "kernelspec": {
      "name": "python3",
      "display_name": "Python 3"
    },
    "language_info": {
      "name": "python"
    }
  },
  "cells": [
    {
      "cell_type": "markdown",
      "metadata": {
        "id": "view-in-github",
        "colab_type": "text"
      },
      "source": [
        "<a href=\"https://colab.research.google.com/github/doongu/Algo_study_bj_with_python/blob/main/hjk/1654_%EB%9E%9C%EC%84%A0_%EC%9E%90%EB%A5%B4%EA%B8%B0.ipynb\" target=\"_parent\"><img src=\"https://colab.research.google.com/assets/colab-badge.svg\" alt=\"Open In Colab\"/></a>"
      ]
    },
    {
      "cell_type": "code",
      "metadata": {
        "colab": {
          "base_uri": "https://localhost:8080/"
        },
        "id": "dM08iPoJISfU",
        "outputId": "000eb388-7e27-4623-b2af-aee322c9da2d"
      },
      "source": [
        "n, m = map(int, input().split())\n",
        "list_ = []\n",
        "for _ in range(n):\n",
        "    list_.append(int(input()))\n",
        "\n",
        "def cnt_len(flag):\n",
        "    cnt = 0\n",
        "    for i in list_:\n",
        "        cnt += i // flag\n",
        "    \n",
        "    return cnt\n",
        "\n",
        "\n",
        "#1로 설정해줘야함\n",
        "left = 1\n",
        "right = max(list_)\n",
        "\n",
        "result = 0\n",
        "\n",
        "while left <= right:\n",
        "    mid = (left + right)//2\n",
        "\n",
        "    temp = cnt_len(mid)\n",
        "\n",
        "    if temp < m:\n",
        "        right = mid - 1\n",
        "    else:\n",
        "        if result < mid:\n",
        "            result = mid\n",
        "        left = mid + 1\n",
        "\n",
        "print(result)\n",
        "\n",
        "    "
      ],
      "execution_count": 17,
      "outputs": [
        {
          "output_type": "stream",
          "text": [
            "1 1\n",
            "1\n",
            "1\n"
          ],
          "name": "stdout"
        }
      ]
    }
  ]
}