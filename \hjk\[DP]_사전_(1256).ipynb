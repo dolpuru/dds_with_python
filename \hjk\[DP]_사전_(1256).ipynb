{
  "nbformat": 4,
  "nbformat_minor": 0,
  "metadata": {
    "colab": {
      "name": "[DP] 사전 (1256)",
      "provenance": [],
      "collapsed_sections": [],
      "authorship_tag": "ABX9TyPoQWAko0G1zlBNW0mvgX4R",
      "include_colab_link": true
    },
    "kernelspec": {
      "name": "python3",
      "display_name": "Python 3"
    },
    "language_info": {
      "name": "python"
    }
  },
  "cells": [
    {
      "cell_type": "markdown",
      "metadata": {
        "id": "view-in-github",
        "colab_type": "text"
      },
      "source": [
        "<a href=\"https://colab.research.google.com/github/doongu/Algo_study_bj_with_python/blob/main/%5Chjk%5C%5BDP%5D_%EC%82%AC%EC%A0%84_(1256).ipynb\" target=\"_parent\"><img src=\"https://colab.research.google.com/assets/colab-badge.svg\" alt=\"Open In Colab\"/></a>"
      ]
    },
    {
      "cell_type": "code",
      "metadata": {
        "colab": {
          "base_uri": "https://localhost:8080/"
        },
        "id": "vuNwUUuVOTOu",
        "outputId": "16b794ff-7039-427f-d9fa-2113dcd04d61"
      },
      "source": [
        "n,m,k = map(int, input().split())\n",
        "dp = [[0]*(m+1) for _ in range(n+1)]\n",
        "\n",
        "#dp[0][i] 는 aaaaaaaa 뭐 이런거라서 항상 1\n",
        "for i in range(m+1):\n",
        "  dp[0][i] = 1\n",
        "for j in range(n+1):\n",
        "  dp[j][0] = 1\n",
        "\n",
        "\n",
        "for i in range(1, n+1):\n",
        "  for j in range(1, m+1):\n",
        "    dp[i][j] = dp[i-1][j] + dp[i][j-1]\n",
        "\n",
        "if dp[n][m] < k:\n",
        "  print(-1)\n",
        "else:\n",
        "  result = \"\"\n",
        "  while True:\n",
        "    if n == 0 or m ==0:\n",
        "      result += \"z\" * m\n",
        "      result += \"a\" * n\n",
        "      break\n",
        "    \n",
        "    flag = dp[n-1][m]\n",
        "    if k <= flag:\n",
        "      result += \"a\"\n",
        "      n -= 1\n",
        "    else:\n",
        "      result += \"z\"\n",
        "      m -= 1\n",
        "      k -= flag\n",
        "  \n",
        "  print(result)\n"
      ],
      "execution_count": null,
      "outputs": [
        {
          "output_type": "stream",
          "text": [
            "2 2 2\n",
            "azaz\n"
          ],
          "name": "stdout"
        }
      ]
    }
  ]
}