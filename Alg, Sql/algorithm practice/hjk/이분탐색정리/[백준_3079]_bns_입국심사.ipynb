{
  "nbformat": 4,
  "nbformat_minor": 0,
  "metadata": {
    "colab": {
      "name": "[백준 3079] bns 입국심사",
      "provenance": [],
      "collapsed_sections": [],
      "authorship_tag": "ABX9TyPqJOmfQ5oxkgmV1jhPfJxE",
      "include_colab_link": true
    },
    "kernelspec": {
      "name": "python3",
      "display_name": "Python 3"
    },
    "language_info": {
      "name": "python"
    }
  },
  "cells": [
    {
      "cell_type": "markdown",
      "metadata": {
        "id": "view-in-github",
        "colab_type": "text"
      },
      "source": [
        "<a href=\"https://colab.research.google.com/github/doongu/Algo_study_bj_with_python/blob/main/hjk/%5B%EB%B0%B1%EC%A4%80_3079%5D_bns_%EC%9E%85%EA%B5%AD%EC%8B%AC%EC%82%AC.ipynb\" target=\"_parent\"><img src=\"https://colab.research.google.com/assets/colab-badge.svg\" alt=\"Open In Colab\"/></a>"
      ]
    },
    {
      "cell_type": "code",
      "metadata": {
        "colab": {
          "base_uri": "https://localhost:8080/"
        },
        "id": "kw0lqBsiREjX",
        "outputId": "0e4bcf9a-2485-4cba-de57-b798281c7868"
      },
      "source": [
        "# 시간을 내가 정한다.\n",
        "# 정한 시간으로 계산을 했을 때 people수 보다 작다면 최소 시간을 늘린다.\n",
        "# 정한 시간보다 계산을 했을 때 people수 보다 크다면 최소 시간을 줄인다.\n",
        "# 정한 시간의 범위는 1, max값 * people\n",
        "# 시간줄이기\n",
        "n,people = map(int, input().split())\n",
        "air_port_list = []\n",
        "for i in range(n):\n",
        "    a = int(input())\n",
        "    air_port_list.append(a)\n",
        "\n",
        "air_port_list.sort()\n",
        "left = 1\n",
        "right = max(air_port_list) * people\n",
        "result = 0\n",
        "while left <= right:\n",
        "    time_limit = (left + right) // 2\n",
        "    \n",
        "    sum = 0\n",
        "    for i in range(len(air_port_list)):\n",
        "        if time_limit >= air_port_list[i]:\n",
        "            sum += time_limit // air_port_list[i]\n",
        "            if sum >= people:\n",
        "                right = time_limit - 1\n",
        "                result = time_limit\n",
        "                break\n",
        "        else:\n",
        "            break\n",
        "    \n",
        "    if sum < people:\n",
        "        left = time_limit + 1\n",
        "        # result = time_limit\n",
        "\n",
        "print(left)"
      ],
      "execution_count": null,
      "outputs": [
        {
          "output_type": "stream",
          "text": [
            "7 10\n",
            "3\n",
            "8\n",
            "3\n",
            "6\n",
            "9\n",
            "2\n",
            "4\n",
            "8\n"
          ],
          "name": "stdout"
        }
      ]
    }
  ]
}
