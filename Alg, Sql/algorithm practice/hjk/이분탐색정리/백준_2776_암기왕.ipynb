{
  "nbformat": 4,
  "nbformat_minor": 0,
  "metadata": {
    "colab": {
      "name": "백준 2776 암기왕",
      "provenance": [],
      "collapsed_sections": [],
      "authorship_tag": "ABX9TyM+oC4b66F+s1tNEb9QZ5Cy",
      "include_colab_link": true
    },
    "kernelspec": {
      "name": "python3",
      "display_name": "Python 3"
    },
    "language_info": {
      "name": "python"
    }
  },
  "cells": [
    {
      "cell_type": "markdown",
      "metadata": {
        "id": "view-in-github",
        "colab_type": "text"
      },
      "source": [
        "<a href=\"https://colab.research.google.com/github/doongu/Algo_study_bj_with_python/blob/main/hjk/%EB%B0%B1%EC%A4%80_2776_%EC%95%94%EA%B8%B0%EC%99%95.ipynb\" target=\"_parent\"><img src=\"https://colab.research.google.com/assets/colab-badge.svg\" alt=\"Open In Colab\"/></a>"
      ]
    },
    {
      "cell_type": "code",
      "metadata": {
        "colab": {
          "base_uri": "https://localhost:8080/"
        },
        "id": "-H5RSYEnRpfI",
        "outputId": "a8c5a361-1caa-41f5-a509-b9073d98c2af"
      },
      "source": [
        "import sys\n",
        "input = sys.stdin.readline\n",
        "T = int(input())\n",
        "def bns(left, right, x):\n",
        "    while left <= right:\n",
        "        mid = (left + right) // 2\n",
        "        \n",
        "        if list_1[mid] == x:\n",
        "            return 1\n",
        "        elif list_1[mid] > x:\n",
        "            right = mid - 1\n",
        "        elif list_1[mid] < x: #이 부분을 else처리 해야 통과다 .. 근데 \n",
        "            left = mid + 1    #index[i] 는 O(1)이다..\n",
        "\n",
        "    return 0\n",
        "for k in range(T):        \n",
        "    list_1_cnt = int(input())\n",
        "    list_1 = list(map(int, input().split()))\n",
        "    list_2_cnt = int(input())\n",
        "    list_2 = list(map(int, input().split()))\n",
        "    list_1.sort()\n",
        "\n",
        "\n",
        "    left = 0\n",
        "    right = list_1_cnt - 1\n",
        "\n",
        "    for i in list_2:\n",
        "        print(bns(left, right, i))\n",
        "\n",
        "\n",
        "'''\n",
        "다른사람코드, 있는지 없는지만 보면되어서 set으로 처리했다\n",
        "\n",
        "for _ in range(int(input())):\n",
        "    N = int(input())\n",
        "    li1 = set(map(int, input().split()))\n",
        "    M = int(input())\n",
        "    li2 = list(map(int, input().split()))\n",
        "    for n in li2:\n",
        "        print(1 if n in li1 else 0) #set은 이게 O(1)이다\n",
        "'''"
      ],
      "execution_count": 11,
      "outputs": [
        {
          "output_type": "stream",
          "text": [
            "1\n",
            "1\n",
            "1\n",
            "3\n",
            "1 2 1\n",
            "1\n",
            "0\n",
            "1\n"
          ],
          "name": "stdout"
        }
      ]
    }
  ]
}
