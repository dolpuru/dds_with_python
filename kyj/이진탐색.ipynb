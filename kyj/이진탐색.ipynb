{
  "nbformat": 4,
  "nbformat_minor": 0,
  "metadata": {
    "colab": {
      "name": "이진탐색",
      "provenance": [],
      "authorship_tag": "ABX9TyNa9EfnbGUb/MCfysfL+EgP",
      "include_colab_link": true
    },
    "kernelspec": {
      "name": "python3",
      "display_name": "Python 3"
    },
    "language_info": {
      "name": "python"
    }
  },
  "cells": [
    {
      "cell_type": "markdown",
      "metadata": {
        "id": "view-in-github",
        "colab_type": "text"
      },
      "source": [
        "<a href=\"https://colab.research.google.com/github/doongu/Algo_study_bj_with_python/blob/main/kyj/%EC%9D%B4%EC%A7%84%ED%83%90%EC%83%89.ipynb\" target=\"_parent\"><img src=\"https://colab.research.google.com/assets/colab-badge.svg\" alt=\"Open In Colab\"/></a>"
      ]
    },
    {
      "cell_type": "markdown",
      "metadata": {
        "id": "CBU55ZfppaZu"
      },
      "source": [
        "2805 나무 자르기 1654 랜선 자르기 10815숫자카드 10816 숫자카드 2 2110 공유기 설치 2512 예산 1072 게임 2343 기타레슨 2776 암기왕"
      ]
    },
    {
      "cell_type": "code",
      "metadata": {
        "colab": {
          "base_uri": "https://localhost:8080/"
        },
        "id": "5TvY-ElnoJT_",
        "outputId": "b15be69b-947d-44b3-fdd1-205f1499d3e3"
      },
      "source": [
        "N,M = map(int,input().split())\n",
        "tree = list(map(int, input().split()))\n",
        "\n",
        "def get_tree(hi,tree):\n",
        "    get = 0\n",
        "    for i in tree:\n",
        "            if hi< i:\n",
        "                get = get + i - hi\n",
        "    return get\n",
        "    \n",
        "fst = 0\n",
        "end = max(tree)\n",
        "\n",
        "while fst <= end:\n",
        "    mi = (fst + end)//2\n",
        "    get = get_tree(mi,tree)\n",
        "\n",
        "    if get >= M:\n",
        "        fst = mi+1\n",
        "\n",
        "    else :\n",
        "        end = mi -1\n",
        "\n",
        "print(end)"
      ],
      "execution_count": 1,
      "outputs": [
        {
          "output_type": "stream",
          "text": [
            "5 20\n",
            "4 42 40 26 46\n",
            "36\n"
          ],
          "name": "stdout"
        }
      ]
    },
    {
      "cell_type": "code",
      "metadata": {
        "colab": {
          "base_uri": "https://localhost:8080/"
        },
        "id": "7nDzPjufqGwF",
        "outputId": "79d7ddb2-5b86-491c-b3f5-3ab7abc51c57"
      },
      "source": [
        "''''\n",
        "import sys\n",
        "input = sys.stdin.readline\n",
        "'''\n",
        "\n",
        "K , N = map(int, input().split())\n",
        "lan = list(int(input()) for i in range(K))\n",
        "\n",
        "def get_the_n(mi,lan):\n",
        "    num = 0\n",
        "    for i in lan:\n",
        "        if i >= mi:\n",
        "            num += i//mi\n",
        "    return num\n",
        "\n",
        "fst = 1\n",
        "end = max(lan)\n",
        "\n",
        "while fst <= end : \n",
        "    mi = (fst + end)//2\n",
        "    the_n = get_the_n(mi,lan)\n",
        "\n",
        "    if the_n >= N:\n",
        "        fst = mi +1\n",
        "\n",
        "    else :\n",
        "        end = mi -1\n",
        "\n",
        "\n",
        "print(end)"
      ],
      "execution_count": 17,
      "outputs": [
        {
          "output_type": "stream",
          "text": [
            "4 11\n",
            "802\n",
            "743\n",
            "457\n",
            "539\n",
            "200\n"
          ],
          "name": "stdout"
        }
      ]
    },
    {
      "cell_type": "code",
      "metadata": {
        "colab": {
          "base_uri": "https://localhost:8080/",
          "height": 136
        },
        "id": "3CilZsAn4sQT",
        "outputId": "3784410a-ced1-44b7-e420-66d9302061d4"
      },
      "source": [
        "N = int(input())\n",
        "N_card = list(map(int , input().split()))\n",
        "M = int(input())\n",
        "M_list = list(map(int , input().split()))\n",
        "\n",
        "N.sort()\n",
        "\n",
        "fst = -10000000\n",
        "end = 10000000\n",
        "\n",
        "while fst <= end:\n"
      ],
      "execution_count": 18,
      "outputs": [
        {
          "output_type": "error",
          "ename": "SyntaxError",
          "evalue": "ignored",
          "traceback": [
            "\u001b[0;36m  File \u001b[0;32m\"<ipython-input-18-61ace7b8eebd>\"\u001b[0;36m, line \u001b[0;32m9\u001b[0m\n\u001b[0;31m    while fst <= end:\u001b[0m\n\u001b[0m                     ^\u001b[0m\n\u001b[0;31mSyntaxError\u001b[0m\u001b[0;31m:\u001b[0m unexpected EOF while parsing\n"
          ]
        }
      ]
    },
    {
      "cell_type": "code",
      "metadata": {
        "id": "fBJgxMle5hPP"
      },
      "source": [
        ""
      ],
      "execution_count": null,
      "outputs": []
    }
  ]
}