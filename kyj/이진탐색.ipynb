{
  "nbformat": 4,
  "nbformat_minor": 0,
  "metadata": {
    "colab": {
      "name": "이진탐색",
      "provenance": [],
      "authorship_tag": "ABX9TyNqEzmBm4RnDCBK01vHXTIY",
      "include_colab_link": true
    },
    "kernelspec": {
      "name": "python3",
      "display_name": "Python 3"
    },
    "language_info": {
      "name": "python"
    }
  },
  "cells": [
    {
      "cell_type": "markdown",
      "metadata": {
        "id": "view-in-github",
        "colab_type": "text"
      },
      "source": [
        "<a href=\"https://colab.research.google.com/github/doongu/Algo_study_bj_with_python/blob/main/kyj/%EC%9D%B4%EC%A7%84%ED%83%90%EC%83%89.ipynb\" target=\"_parent\"><img src=\"https://colab.research.google.com/assets/colab-badge.svg\" alt=\"Open In Colab\"/></a>"
      ]
    },
    {
      "cell_type": "code",
      "metadata": {
        "colab": {
          "base_uri": "https://localhost:8080/"
        },
        "id": "5TvY-ElnoJT_",
        "outputId": "b15be69b-947d-44b3-fdd1-205f1499d3e3"
      },
      "source": [
        "N,M = map(int,input().split())\n",
        "tree = list(map(int, input().split()))\n",
        "\n",
        "def get_tree(hi,tree):\n",
        "    get = 0\n",
        "    for i in tree:\n",
        "            if hi< i:\n",
        "                get = get + i - hi\n",
        "    return get\n",
        "    \n",
        "fst = 0\n",
        "end = max(tree)\n",
        "\n",
        "while fst <= end:\n",
        "    mi = (fst + end)//2\n",
        "    get = get_tree(mi,tree)\n",
        "\n",
        "    if get >= M:\n",
        "        fst = mi+1\n",
        "\n",
        "    else :\n",
        "        end = mi -1\n",
        "\n",
        "print(end)"
      ],
      "execution_count": 1,
      "outputs": [
        {
          "output_type": "stream",
          "text": [
            "5 20\n",
            "4 42 40 26 46\n",
            "36\n"
          ],
          "name": "stdout"
        }
      ]
    }
  ]
}